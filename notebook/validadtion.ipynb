{
 "cells": [
  {
   "cell_type": "markdown",
   "metadata": {},
   "source": [
    "### Predict on validation set"
   ]
  },
  {
   "cell_type": "code",
   "execution_count": 32,
   "metadata": {},
   "outputs": [
    {
     "name": "stdout",
     "output_type": "stream",
     "text": [
      "The autoreload extension is already loaded. To reload it, use:\n",
      "  %reload_ext autoreload\n"
     ]
    }
   ],
   "source": [
    "%load_ext autoreload\n",
    "%autoreload 2"
   ]
  },
  {
   "cell_type": "code",
   "execution_count": 33,
   "metadata": {},
   "outputs": [],
   "source": [
    "import os\n",
    "import sys\n",
    "import torch\n",
    "from torch.utils.data import Dataset\n",
    "from tqdm.notebook import tqdm"
   ]
  },
  {
   "cell_type": "code",
   "execution_count": 34,
   "metadata": {},
   "outputs": [],
   "source": [
    "ROOT_DIR = os.path.dirname(os.getcwd())\n",
    "sys.path.append(ROOT_DIR)"
   ]
  },
  {
   "cell_type": "code",
   "execution_count": 35,
   "metadata": {},
   "outputs": [],
   "source": [
    "from src.path import DATA_VALID, MODELS_DIR\n",
    "from src.metrics import calculate_psnr\n",
    "from models.rednet import RedNet"
   ]
  },
  {
   "cell_type": "code",
   "execution_count": 36,
   "metadata": {},
   "outputs": [],
   "source": [
    "class ImgDataset(Dataset):\n",
    "    def __init__(self, data_dir: str) -> None:\n",
    "        self.data_dir = data_dir\n",
    "        self.noisy_imgs ,self.clean_imgs = torch.load(data_dir)\n",
    "\n",
    "    def __getitem__(self, index):\n",
    "        x = self.noisy_imgs[index, ...]/255.0\n",
    "        y = self.clean_imgs[index, ...]/255.0\n",
    "        return x, y\n",
    "\n",
    "    def __len__(self):\n",
    "        return self.noisy_imgs.shape[0]\n",
    "\n",
    "data = ImgDataset(DATA_VALID)\n",
    "validDataLoader=torch.utils.data.DataLoader(data,batch_size=1,\n",
    "                                           shuffle=True)"
   ]
  },
  {
   "cell_type": "code",
   "execution_count": 37,
   "metadata": {},
   "outputs": [
    {
     "name": "stdout",
     "output_type": "stream",
     "text": [
      "cpu\n"
     ]
    }
   ],
   "source": [
    "model = RedNet()\n",
    "criterion = torch.nn.MSELoss()\n",
    "device = torch.device(\"cuda\") if torch.cuda.is_available() else torch.device(\"cpu\")\n",
    "print(device)\n",
    "model.eval()\n",
    "model.to(device)\n",
    "\n",
    "name = \"model-20220420.pt\"\n",
    "if torch.cuda.is_available():\n",
    "  model.load_state_dict(torch.load(os.path.join(MODELS_DIR, name)))\n",
    "else:\n",
    "  model.load_state_dict(torch.load(os.path.join(MODELS_DIR, name), map_location=torch.device('cpu')))"
   ]
  },
  {
   "cell_type": "code",
   "execution_count": 38,
   "metadata": {},
   "outputs": [
    {
     "data": {
      "application/vnd.jupyter.widget-view+json": {
       "model_id": "da2cfaf6d56a484eb06c62b1e0370e2a",
       "version_major": 2,
       "version_minor": 0
      },
      "text/plain": [
       "denoised validation set:   0%|          | 0/1000 [00:00<?, ?img/s]"
      ]
     },
     "metadata": {},
     "output_type": "display_data"
    }
   ],
   "source": [
    "valid_loss = []\n",
    "valid_pnsr = []\n",
    "with tqdm(validDataLoader, desc=f'denoised validation set', unit='img', \n",
    "                  leave=False) as t1:\n",
    "    for x_noised, x_clean in t1:\n",
    "        x_noised = x_noised.to(device)\n",
    "        x_clean = x_clean.to(device)\n",
    "\n",
    "        x_denoised = model(x_noised)\n",
    "        loss = criterion(x_denoised, x_clean)\n",
    "        x_denoised = torch.squeeze(x_denoised, dim=0)\n",
    "        x_clean = torch.squeeze(x_clean, dim=0)\n",
    "        psnr = calculate_psnr(x_denoised, x_clean)\n",
    "        \n",
    "        valid_loss.append(loss.item())\n",
    "        valid_pnsr.append(psnr.item())"
   ]
  },
  {
   "cell_type": "code",
   "execution_count": 39,
   "metadata": {},
   "outputs": [
    {
     "name": "stdout",
     "output_type": "stream",
     "text": [
      "for model model-20220420.pt\n",
      "Hit psnr = 24.91799765396118 dB\n",
      "Hit loss = 0.00394204310758505\n"
     ]
    }
   ],
   "source": [
    "avg_loss = sum(valid_loss)/len(valid_loss)\n",
    "avg_pnsr = sum(valid_pnsr)/len(valid_pnsr)\n",
    "\n",
    "print(f'for model {name}')\n",
    "print(f'Hit psnr = {avg_pnsr} dB')\n",
    "print(f'Hit loss = {avg_loss}')"
   ]
  },
  {
   "cell_type": "code",
   "execution_count": null,
   "metadata": {},
   "outputs": [],
   "source": []
  }
 ],
 "metadata": {
  "interpreter": {
   "hash": "56f54e28b6592e1d9a876552792ff8cec11e0f9360817677df41e70d20983d60"
  },
  "kernelspec": {
   "display_name": "Python 3.8.3 64-bit",
   "language": "python",
   "name": "python3"
  },
  "language_info": {
   "codemirror_mode": {
    "name": "ipython",
    "version": 3
   },
   "file_extension": ".py",
   "mimetype": "text/x-python",
   "name": "python",
   "nbconvert_exporter": "python",
   "pygments_lexer": "ipython3",
   "version": "3.8.3"
  },
  "orig_nbformat": 4
 },
 "nbformat": 4,
 "nbformat_minor": 2
}
