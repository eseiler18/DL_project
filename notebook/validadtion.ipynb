{
 "cells": [
  {
   "cell_type": "markdown",
   "metadata": {},
   "source": [
    "### Predict on validation set"
   ]
  },
  {
   "cell_type": "code",
   "execution_count": 1,
   "metadata": {},
   "outputs": [],
   "source": [
    "%load_ext autoreload\n",
    "%autoreload 2"
   ]
  },
  {
   "cell_type": "code",
   "execution_count": 2,
   "metadata": {},
   "outputs": [],
   "source": [
    "import pickle\n",
    "import os\n",
    "import sys\n",
    "import torch\n",
    "import numpy as np\n",
    "import torch.nn.functional as F\n",
    "from torch.utils.data import Dataset\n",
    "from tqdm.notebook import trange, tqdm"
   ]
  },
  {
   "cell_type": "code",
   "execution_count": null,
   "metadata": {},
   "outputs": [],
   "source": [
    "ROOT_DIR = os.path.dirname(os.getcwd())\n",
    "sys.path.append(ROOT_DIR)"
   ]
  },
  {
   "cell_type": "code",
   "execution_count": null,
   "metadata": {},
   "outputs": [],
   "source": [
    "from src.path import DATA_VALID, MODELS_DIR\n",
    "from src.metrics import psnr\n",
    "from models.rednet import RedNet"
   ]
  },
  {
   "cell_type": "code",
   "execution_count": null,
   "metadata": {},
   "outputs": [],
   "source": [
    "class ImgDataset(Dataset):\n",
    "    def __init__(self, data_dir: str) -> None:\n",
    "        self.data_dir = data_dir\n",
    "        self.noisy_imgs ,self.clean_imgs = torch.load(data_dir)\n",
    "\n",
    "    def __getitem__(self, index):\n",
    "        x = self.noisy_imgs[index, ...]/255.0\n",
    "        y = self.clean_imgs[index, ...]/255.0\n",
    "        return x, y\n",
    "\n",
    "    def __len__(self):\n",
    "        return self.noisy_imgs.shape[0]\n",
    "\n",
    "data = ImgDataset(DATA_VALID)\n",
    "ValidDataLoader=torch.utils.data.DataLoader(data,batch_size=1,\n",
    "                                           shuffle=True)"
   ]
  },
  {
   "cell_type": "code",
   "execution_count": null,
   "metadata": {},
   "outputs": [],
   "source": [
    "model = RedNet()\n",
    "criterion = torch.nn.MSELoss()\n",
    "device = torch.device(\"cuda\") if torch.cuda.is_available() else torch.device(\"cpu\")\n",
    "print(device)\n",
    "model.eval()\n",
    "model.to(device)\n",
    "\n",
    "name = \"model-20220420.pt\"\n",
    "if torch.cuda.is_available():\n",
    "  model.load_state_dict(torch.load(os.path.join(MODELS_DIR, name)))\n",
    "else:\n",
    "  model.load_state_dict(torch.load(os.path.join(MODELS_DIR, name), map_location=torch.device('cpu')))"
   ]
  },
  {
   "cell_type": "code",
   "execution_count": null,
   "metadata": {},
   "outputs": [],
   "source": [
    "with tqdm(trainDataLoader, desc=f'Valid', unit='batch', \n",
    "                  leave=False) as t1:\n",
    "            for x_train ,y_train in t1:\n",
    "                x_train = x_train.to(device)\n",
    "                y_train = y_train.to(device)\n",
    "\n",
    "                # Zero the parameter gradients\n",
    "                optimizer.zero_grad()\n",
    "\n",
    "                # Forward + backward + optimize\n",
    "                output = model(x_train)\n",
    "                loss = criterion(output, y_train)\n",
    "                loss.backward()\n",
    "                optimizer.step()\n",
    "                \n",
    "                # Append loss\n",
    "                losses.append(loss)\n",
    "        \n",
    "        train_loss.append((sum(losses)/float(len(losses))).item())\n",
    "\n",
    "        with torch.no_grad():\n",
    "            losses = []\n",
    "\n",
    "            with tqdm(testDataLoader, desc=f'Test epoch {epoch}', unit='batch', \n",
    "                  leave=False) as t1:\n",
    "                for x_test, y_test in t1:\n",
    "\n",
    "                    x_test = x_test.to(device)\n",
    "                    y_test = y_test.to(device)\n",
    "\n",
    "                    output = model(x_test)\n",
    "                    loss = criterion(output, y_test)\n",
    "                    losses.append(loss)\n",
    "            \n",
    "        test_loss.append((sum(losses)/float(len(losses))).item())"
   ]
  }
 ],
 "metadata": {
  "interpreter": {
   "hash": "56f54e28b6592e1d9a876552792ff8cec11e0f9360817677df41e70d20983d60"
  },
  "kernelspec": {
   "display_name": "Python 3.8.3 64-bit",
   "language": "python",
   "name": "python3"
  },
  "language_info": {
   "codemirror_mode": {
    "name": "ipython",
    "version": 3
   },
   "file_extension": ".py",
   "mimetype": "text/x-python",
   "name": "python",
   "nbconvert_exporter": "python",
   "pygments_lexer": "ipython3",
   "version": "3.8.3"
  },
  "orig_nbformat": 4
 },
 "nbformat": 4,
 "nbformat_minor": 2
}
