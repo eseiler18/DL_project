{
 "cells": [
  {
   "cell_type": "code",
   "execution_count": 1,
   "id": "2e6dca93",
   "metadata": {},
   "outputs": [],
   "source": [
    "import pickle\n",
    "import os\n",
    "import sys\n",
    "import torch\n",
    "import numpy as np\n",
    "import torch.nn.functional as F\n",
    "from torch.utils.data import Dataset\n",
    "from tqdm.notebook import trange, tqdm"
   ]
  },
  {
   "cell_type": "code",
   "execution_count": 2,
   "id": "8b697eb3",
   "metadata": {},
   "outputs": [],
   "source": [
    "ROOT_DIR = os.path.dirname(os.getcwd())\n",
    "sys.path.append(ROOT_DIR)"
   ]
  },
  {
   "cell_type": "code",
   "execution_count": 3,
   "id": "308298c7",
   "metadata": {},
   "outputs": [],
   "source": [
    "from path import create_dirs\n",
    "create_dirs()\n",
    "from path import DATA_TRAIN, OUT_DIR, MODELS_DIR, generate_model_filename, generate_log_filename"
   ]
  },
  {
   "cell_type": "code",
   "execution_count": 4,
   "id": "a6333aa9",
   "metadata": {},
   "outputs": [],
   "source": [
    "from Model import Model\n",
    "\n",
    "model = Model()\n"
   ]
  },
  {
   "cell_type": "code",
   "execution_count": 5,
   "id": "cda7ac3e",
   "metadata": {},
   "outputs": [],
   "source": [
    "class ImgDataset(Dataset):\n",
    "    \"\"\"Dataset of nuclear fusion time series.\"\"\"\n",
    "    def __init__(self, data_dir: str) -> None:\n",
    "        self.data_dir = data_dir\n",
    "        self.noisy_imgs1 ,self.noisy_imgs2 = torch.load(data_dir)\n",
    "        # self.noisy_imgs1 = self.noisy_imgs1[0:100, ...]\n",
    "        # self.noisy_imgs2 = self.noisy_imgs2[0:100, ...]\n",
    "\n",
    "    def __getitem__(self, index):\n",
    "        x = self.noisy_imgs1[index, ...]/255.0\n",
    "        y = self.noisy_imgs2[index, ...]/255.0\n",
    "        return x, y\n",
    "\n",
    "    def __len__(self):\n",
    "        return self.noisy_imgs1.shape[0]\n",
    "\n",
    "data = ImgDataset(DATA_TRAIN)"
   ]
  },
  {
   "cell_type": "code",
   "execution_count": 6,
   "id": "dd436933",
   "metadata": {},
   "outputs": [],
   "source": [
    "# test the pipeline with only 100 images\n",
    "train1,train2=data[:100]"
   ]
  },
  {
   "cell_type": "code",
   "execution_count": null,
   "id": "82ad5e0a",
   "metadata": {},
   "outputs": [
    {
     "name": "stdout",
     "output_type": "stream",
     "text": [
      "Epoch 1 \tLoss 33.73301315307617\n",
      "Epoch 11 \tLoss 33.73301315307617\n",
      "Epoch 21 \tLoss 33.73301315307617\n",
      "Epoch 31 \tLoss 33.73301315307617\n",
      "Epoch 41 \tLoss 33.73301315307617\n",
      "Epoch 51 \tLoss 33.73301315307617\n"
     ]
    }
   ],
   "source": [
    "model.train(train1, train2, 100, save=False)"
   ]
  },
  {
   "cell_type": "code",
   "execution_count": null,
   "id": "97b6ca50",
   "metadata": {},
   "outputs": [],
   "source": []
  }
 ],
 "metadata": {
  "kernelspec": {
   "display_name": "Python 3",
   "language": "python",
   "name": "python3"
  },
  "language_info": {
   "codemirror_mode": {
    "name": "ipython",
    "version": 3
   },
   "file_extension": ".py",
   "mimetype": "text/x-python",
   "name": "python",
   "nbconvert_exporter": "python",
   "pygments_lexer": "ipython3",
   "version": "3.8.8"
  }
 },
 "nbformat": 4,
 "nbformat_minor": 5
}
