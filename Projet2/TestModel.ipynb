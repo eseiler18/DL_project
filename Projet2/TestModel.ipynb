{
 "cells": [
  {
   "cell_type": "code",
   "execution_count": 1,
   "id": "2e6dca93",
   "metadata": {},
   "outputs": [],
   "source": [
    "%load_ext autoreload\n",
    "%autoreload 2"
   ]
  },
  {
   "cell_type": "code",
   "execution_count": 2,
   "id": "6203cc11",
   "metadata": {},
   "outputs": [],
   "source": [
    "import os\n",
    "import sys\n",
    "import torch\n",
    "from torch.utils.data import Dataset"
   ]
  },
  {
   "cell_type": "code",
   "execution_count": 3,
   "id": "8b697eb3",
   "metadata": {},
   "outputs": [],
   "source": [
    "ROOT_DIR = os.path.dirname(os.getcwd())\n",
    "sys.path.append(ROOT_DIR)"
   ]
  },
  {
   "cell_type": "code",
   "execution_count": 4,
   "id": "308298c7",
   "metadata": {},
   "outputs": [],
   "source": [
    "from path import create_dirs\n",
    "create_dirs()\n",
    "from path import DATA_TRAIN, DATA_VALID"
   ]
  },
  {
   "cell_type": "code",
   "execution_count": 5,
   "id": "a6333aa9",
   "metadata": {},
   "outputs": [],
   "source": [
    "from Model import Model\n",
    "model = Model()"
   ]
  },
  {
   "cell_type": "code",
   "execution_count": 6,
   "id": "3c778393",
   "metadata": {},
   "outputs": [],
   "source": [
    "# run this cell to load pretrained model\n",
    "model.load_pretrained_model()"
   ]
  },
  {
   "cell_type": "code",
   "execution_count": 7,
   "id": "cda7ac3e",
   "metadata": {},
   "outputs": [],
   "source": [
    "class ImgDataset(Dataset):\n",
    "    \"\"\"Dataset of nuclear fusion time series.\"\"\"\n",
    "    def __init__(self, data_dir: str) -> None:\n",
    "        self.data_dir = data_dir\n",
    "        self.noisy_imgs1 ,self.noisy_imgs2 = torch.load(data_dir)\n",
    "        self.noisy_imgs1 = self.noisy_imgs1[0:100, ...]\n",
    "        self.noisy_imgs2 = self.noisy_imgs2[0:100, ...]\n",
    "\n",
    "    def __getitem__(self, index):\n",
    "        x = self.noisy_imgs1[index, ...]/255.0\n",
    "        y = self.noisy_imgs2[index, ...]/255.0\n",
    "        return x, y\n",
    "\n",
    "    def __len__(self):\n",
    "        return self.noisy_imgs1.shape[0]"
   ]
  },
  {
   "cell_type": "code",
   "execution_count": null,
   "id": "fdbfbe31",
   "metadata": {},
   "outputs": [],
   "source": [
    "# run this cell to train model\n",
    "data_train = ImgDataset(DATA_TRAIN)\n",
    "x, y = data_train[:]\n",
    "model.train(x, y, 10, save=True)"
   ]
  },
  {
   "cell_type": "code",
   "execution_count": 46,
   "id": "71f5732e",
   "metadata": {},
   "outputs": [],
   "source": [
    "# run this cell to valid model\n",
    "data_valid = ImgDataset(DATA_VALID)\n",
    "x, y = data_valid[:]\n",
    "model.validation(x, y)"
   ]
  }
 ],
 "metadata": {
  "kernelspec": {
   "display_name": "Python 3",
   "language": "python",
   "name": "python3"
  },
  "language_info": {
   "codemirror_mode": {
    "name": "ipython",
    "version": 3
   },
   "file_extension": ".py",
   "mimetype": "text/x-python",
   "name": "python",
   "nbconvert_exporter": "python",
   "pygments_lexer": "ipython3",
   "version": "3.8.8"
  }
 },
 "nbformat": 4,
 "nbformat_minor": 5
}
